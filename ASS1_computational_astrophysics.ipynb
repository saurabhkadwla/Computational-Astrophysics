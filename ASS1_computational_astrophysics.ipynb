{
 "cells": [
  {
   "cell_type": "code",
   "execution_count": 5,
   "id": "c6a7ae8d",
   "metadata": {},
   "outputs": [],
   "source": [
    "import numpy as np\n",
    "import matplotlib.pyplot as plt"
   ]
  },
  {
   "cell_type": "markdown",
   "id": "9986afa7",
   "metadata": {},
   "source": [
    "# 1. ODE Algorithms and Error Estimates\n",
    "Consider the equation\n",
    "\n",
    "$$\\frac{dy}{dx} = -xy$$\n",
    "\n",
    "with initial condition y(0) = 1, which has the exact solution $$y= \\exp(-x^2/2)$$\n",
    "Study the numerical integration\n",
    "of this using the following methods:\\\n",
    "a) Euler Method\\\n",
    "b) Runge-Kutta 2nd Order\\\n",
    "c) Runge-Kutta 4th Order\\\n",
    "In particular, verify that the errors (difference between numerical and exact solutions) decrease according to\n",
    "the expected power of the algorithm and discuss the difference between local error and global error."
   ]
  },
  {
   "cell_type": "code",
   "execution_count": 12,
   "id": "d0688c91",
   "metadata": {},
   "outputs": [],
   "source": [
    "#defining exact solution\n",
    "def sol_ana(y, x): # exact solution\n",
    "  return np.exp(-0.5*x**2)\n",
    "  "
   ]
  },
  {
   "cell_type": "code",
   "execution_count": 13,
   "id": "4d6138fa",
   "metadata": {},
   "outputs": [],
   "source": [
    "\n",
    "def fxy(y, x):#Right hand side \n",
    "  return (-x*y)"
   ]
  },
  {
   "cell_type": "code",
   "execution_count": 14,
   "id": "ebef4a28",
   "metadata": {},
   "outputs": [
    {
     "name": "stdout",
     "output_type": "stream",
     "text": [
      "5.159859017030569e-05 3.180351452519503e-08 6.797861358508452e-05\n"
     ]
    },
    {
     "data": {
      "image/png": "[encoded data removed]",
      "text/plain": [
       "<Figure size 432x288 with 1 Axes>"
      ]
     },
     "metadata": {
      "needs_background": "light"
     },
     "output_type": "display_data"
    }
   ],
   "source": [
    "x0 = 0.0\n",
    "xm = 10.0\n",
    "N = 10000 # No. of points which divides x0 to xm on no. line\n",
    "xv = np.linspace(x0,xm,N) \n",
    "h = xv[1]-xv[0] \n",
    "\n",
    "y_num = np.zeros(N) # assigning for RK 2nd order\n",
    "y_num[0] = 1.0\n",
    "\n",
    "y_eul = np.zeros(N)\n",
    "y_eul[0] = 1.0 \n",
    "\n",
    "y_R_K_4 = np.zeros(N)\n",
    "y_R_K_4[0] = 1.0\n",
    "\n",
    "\n",
    "#Runge kutta 2nd order\n",
    "for i in range(1,N):\n",
    "  k_1 = h*fxy(y_num[i-1],xv[i-1])\n",
    "  k_2 = h*fxy(y_num[i-1]+k_1,xv[i-1]+h)\n",
    "  y_num[i] = y_num[i-1] + 0.5*(k_1 + k_2)\n",
    "\n",
    "# Euler method\n",
    "  y_eul[i] = y_eul[i-1] + h*fxy(y_eul[i-1],xv[i-1])\n",
    "\n",
    "#Runge kutta 4th order\n",
    "\n",
    "  k_1 = h*fxy(y_R_K_4[i-1],xv[i-1])\n",
    "  k_2 = h*fxy(y_R_K_4[i-1]+0.5*k_1,xv[i-1]+0.5*h)\n",
    "  k_3 = h*fxy(y_R_K_4[i-1]+0.5*k_2,xv[i-1]+0.5*h)\n",
    "  k_4 = h*fxy(y_R_K_4[i-1]+k_3,xv[i-1]+h)\n",
    "  y_R_K_4[i] = y_R_K_4[i-1] + 0.1666*(k_1+2*k_2+2*k_3+k_4)\n",
    "\n",
    "y_ana = sol_ana(0.0, xv)\n",
    "error_euler = ((np.sum((y_ana - y_eul)**2))/N)**(1/2)\n",
    "error_rk2 = ((np.sum((y_ana - y_num)**2))/N)**(1/2)\n",
    "error_rk4 = ((np.sum((y_ana - y_R_K_4)**2))/N)**(1/2)\n",
    "print(error_rk4,error_rk2,error_euler)\n",
    "\n",
    " \n",
    "# plotting x vs y\n",
    "plt.plot(xv, y_num, 'r--',label=\"R.k. 2nd\")\n",
    "plt.plot(xv, y_ana, 'k',label=\"Analytical\")\n",
    "plt.plot(xv,y_eul,'g',label=\"Euler\")\n",
    "plt.plot(xv,y_R_K_4,'b',label=\"R.K. 4th\")\n",
    "plt.xscale('log')\n",
    "plt.yscale('log')\n",
    "plt.legend()\n",
    "plt.show()"
   ]
  },
  {
   "cell_type": "code",
   "execution_count": 15,
   "id": "67c79607",
   "metadata": {},
   "outputs": [
    {
     "name": "stderr",
     "output_type": "stream",
     "text": [
      "/tmp/ipykernel_27551/1162332162.py:12: RuntimeWarning: divide by zero encountered in double_scalars\n",
      "  error_rk4[i] = ((np.sum((y_ana - y_R_K_4[i])**2))/i)**(1/2)\n",
      "/tmp/ipykernel_27551/1162332162.py:13: RuntimeWarning: divide by zero encountered in double_scalars\n",
      "  error_euler[i] = ((np.sum((y_ana - y_eul[i])**2))/i)**(1/2)\n",
      "/tmp/ipykernel_27551/1162332162.py:14: RuntimeWarning: divide by zero encountered in double_scalars\n",
      "  error_rk2[i] = ((np.sum((y_ana - y_num[i])**2))/i)**(1/2)\n"
     ]
    },
    {
     "data": {
      "text/plain": [
       "[<matplotlib.lines.Line2D at 0x7faaaf81c340>]"
      ]
     },
     "execution_count": 15,
     "metadata": {},
     "output_type": "execute_result"
    },
    {
     "data": {
      "image/png": "[encoded data removed]",
      "text/plain": [
       "<Figure size 432x288 with 1 Axes>"
      ]
     },
     "metadata": {
      "needs_background": "light"
     },
     "output_type": "display_data"
    }
   ],
   "source": [
    "z = np.arange(N)\n",
    "\n",
    "\n",
    "error_euler, error_rk2, error_rk4  = np.zeros(N),np.zeros(N),np.zeros(N)\n",
    "for i in range(N):\n",
    "    \n",
    "#     k_1 = h*fxy(y_R_K_4[i-1],xv[i-1])\n",
    "#     k_2 = h*fxy(y_R_K_4[i-1]+0.5*k_1,xv[i-1]+0.5*h)\n",
    "#     k_3 = h*fxy(y_R_K_4[i-1]+0.5*k_2,xv[i-1]+0.5*h)\n",
    "#     k_4 = h*fxy(y_R_K_4[i-1]+k_3,xv[i-1]+h)\n",
    "    #y_R_K_4[i] = y_R_K_4[i-1] + 0.1666*(k_1+2*k_2+2*k_3+k_4)\n",
    "    error_rk4[i] = ((np.sum((y_ana - y_R_K_4[i])**2))/i)**(1/2)\n",
    "    error_euler[i] = ((np.sum((y_ana - y_eul[i])**2))/i)**(1/2)\n",
    "    error_rk2[i] = ((np.sum((y_ana - y_num[i])**2))/i)**(1/2)\n",
    "\n",
    "plt.plot(z,error_rk4,'o')\n",
    "plt.plot(z,error_euler,'+')\n",
    "plt.plot(z,error_rk2,'k')"
   ]
  },
  {
   "cell_type": "code",
   "execution_count": 24,
   "id": "36956e15",
   "metadata": {},
   "outputs": [
    {
     "data": {
      "image/png": "[encoded data removed]",
      "text/plain": [
       "<Figure size 432x288 with 1 Axes>"
      ]
     },
     "metadata": {
      "needs_background": "light"
     },
     "output_type": "display_data"
    },
    {
     "data": {
      "image/png": "[encoded data removed]",
      "text/plain": [
       "<Figure size 432x288 with 1 Axes>"
      ]
     },
     "metadata": {
      "needs_background": "light"
     },
     "output_type": "display_data"
    }
   ],
   "source": [
    "#importing the required Libraries\n",
    "import numpy as np\n",
    "import matplotlib.pyplot as plt\n",
    "\n",
    "#Defining Value of x and it's range\n",
    "x_0 = 0\n",
    "x_m = 10.0\n",
    "\n",
    "#Enter Value of k to run the loop till N = 2^k \n",
    "k = 13\n",
    "\n",
    "# Exact Solution\n",
    "def y_exact(x):\n",
    "  return np.exp((-x**2)/2)\n",
    "\n",
    "#defining the function dx/dy = -xy\n",
    "def fxy(x, y):\n",
    "  return -x*y\n",
    "#------------------------------------------\n",
    "#Creating Array to store value of y for All different type of Methods\n",
    "\n",
    "\n",
    "error_euler = np.zeros(k)\n",
    "error_Runge_kutta_2nd = np.zeros(k)\n",
    "error_Runge_kutta_4th = np.zeros(k)\n",
    "\n",
    "n = np.logspace(3, k, k, endpoint=True, base=2)\n",
    "\n",
    "for j in range(k):\n",
    "\n",
    "  N = int(n[j])\n",
    "  xv = np.linspace(x_0, x_m, N)\n",
    "  h = xv[1] - xv[0]\n",
    "\n",
    "  #------------------------------------------\n",
    " \n",
    "  y_ana=np.exp((-xv**2)/2)\n",
    "\n",
    "\n",
    "  y_euler = np.zeros(N)\n",
    "  y_euler[0] = 1.0 \n",
    "\n",
    "  y_Runge_kutta_2nd = np.zeros(N)\n",
    "  y_Runge_kutta_2nd[0] = 1.0\n",
    "\n",
    "  y_Runge_kutta_4th = np.zeros(N)\n",
    "  y_Runge_kutta_4th[0] = 1.0\n",
    "  #------------------------------------------\n",
    "\n",
    "  for i in range(1, N):\n",
    "    #for Euler Method\n",
    "    y_euler[i] = y_euler[i-1] + h*fxy(y_euler[i-1], xv[i-1])\n",
    "\n",
    "    #For Runge-Kutta 2nd Order\n",
    "    k_1 = h*fxy(y_Runge_kutta_2nd[i-1], xv[i-1])\n",
    "    k_2 = h*fxy(y_Runge_kutta_2nd[i-1]+ k_1, xv[i-1]+ h)\n",
    "    y_Runge_kutta_2nd[i] = y_Runge_kutta_2nd[i-1] + (k_2 + k_1)/2\n",
    "\n",
    "    #For Runge-Kutta 4th Order\n",
    "    c_1 = h*fxy(y_Runge_kutta_4th[i-1], xv[i-1])\n",
    "    c_2 = h*fxy(y_Runge_kutta_4th[i-1]+ c_1/2, xv[i-1]+ h/2)\n",
    "    c_3 = h*fxy(y_Runge_kutta_4th[i-1]+ c_2/2, xv[i-1]+ h/2)\n",
    "    c_4 = h*fxy(y_Runge_kutta_4th[i-1]+ c_3, xv[i-1]+ h)\n",
    "    y_Runge_kutta_4th[i] = y_Runge_kutta_4th[i-1]+ 1/6*(c_1 + 2*c_2 + 2*c_3 + c_4)\n",
    "\n",
    "\n",
    "\n",
    "  error_euler[j] = ((np.sum(abs(y_ana - y_euler)))/N)\n",
    "  error_Runge_kutta_2nd[j] = ((np.sum(abs(y_ana - y_Runge_kutta_2nd)))/N)\n",
    "  error_Runge_kutta_4th[j] = ((np.sum(abs(y_ana - y_Runge_kutta_4th)))/N)\n",
    "\n",
    "\n",
    "  if N == 80:\n",
    "    \n",
    "\n",
    "    plt.plot(xv, y_exact(xv), 'k', label ='Exact Solution')\n",
    "    plt.plot(xv, y_euler, 'r--', label ='Euler\\'s Method')\n",
    "    plt.plot(xv, y_Runge_kutta_2nd, 'b', label ='Runge Kutta\\'s 2nd order')\n",
    "    plt.plot(xv, y_Runge_kutta_4th, 'r', label ='Runge Kutta\\'s 4th order')\n",
    "    plt.title(\"Plot of radius vs Angle on log scale for N = 80\")\n",
    "    # Uncomment the Required Scale\n",
    "    plt.xscale('log')\n",
    "    plt.yscale('log')\n",
    "    # plt.xscale('linear')\n",
    "    # plt.yscale('linear')\n",
    "\n",
    "    plt.legend()\n",
    "    plt.show()\n",
    "\n",
    "\n",
    "\n",
    "plt.plot(n, error_euler,\"k\", label ='Euler\\'s Method')\n",
    "plt.plot(n, error_Runge_kutta_2nd,\"b\", label ='Runge Kutta\\'s 2nd order')\n",
    "plt.plot(n, error_Runge_kutta_4th,\"g\", label ='Runge Kutta\\'s 4th order')\n",
    "plt.plot(n, n**(-1),\"k:\")\n",
    "plt.plot(n, n**(-2),\"b:\")\n",
    "plt.plot(n, n**(-4),\"g:\")\n",
    "plt.title(\"Plot of Error With N: Errors are decreasing with expected power\")\n",
    "# plt.xscale('log')\n",
    "# plt.xlabel('log')\n",
    "# plt.ylabel('log')\n",
    "# plt.yscale('log')\n",
    "plt.legend()\n",
    "plt.show()"
   ]
  },
  {
   "cell_type": "markdown",
   "id": "76b7c885",
   "metadata": {},
   "source": [
    "## 2.Stellar Orbits in Kepler Potential\n",
    "The equation that governs the motion of a star in r-θ plane under a Kepler potential is given by\n",
    "\n",
    "$$\\frac{d^2u}{d\\theta^2} + u = \\frac{1}{a(1-e^2)}$$\n",
    "\n",
    "where u = 1/r, a and e are constants. \\\n",
    "Solve the above equation using values a = 5.0 and e = 0.8, plot the trajectory of the star with\\\n",
    "a) Euler Method\\\n",
    "b) Runge Kutta 2nd Order Method \\\n",
    "Is the motion of the star what you expect i.e., a closed ellipse with\n",
    "eccentricity e and semi-major axis a ?\n",
    "ustify the choices of initial conditions taken and any deviation from\n",
    "the expected orbit.\n",
    "\n"
   ]
  },
  {
   "cell_type": "code",
   "execution_count": 2,
   "id": "90aacdc1",
   "metadata": {},
   "outputs": [
    {
     "data": {
      "text/plain": [
       "[<matplotlib.lines.Line2D at 0x7fb8a0c3fe80>]"
      ]
     },
     "execution_count": 2,
     "metadata": {},
     "output_type": "execute_result"
    },
    {
     "data": {
      "image/png": "[encoded data removed]",
      "text/plain": [
       "<Figure size 432x288 with 1 Axes>"
      ]
     },
     "metadata": {
      "needs_background": "light"
     },
     "output_type": "display_data"
    }
   ],
   "source": [
    "import numpy as np \n",
    "import matplotlib.pyplot as plt\n",
    "\n",
    "theta_0 = 0\n",
    "theta_m = 2*np.pi\n",
    "N = 1000\n",
    "\n",
    "theta = np.linspace(theta_0,theta_m,N) \n",
    "e = 0.8 # eccentricity\n",
    "a = 5.0\n",
    "\n",
    "h = theta[1] - theta[0]\n",
    "\n",
    "u_num = np.zeros(N) #Intializing for Euler method\n",
    "u_num[0] = 1.0\n",
    "\n",
    "v_num = np.zeros(N)\n",
    "\n",
    "u_R_k2 = np.zeros(N) #Intializing for RK 2nd order\n",
    "u_R_k2[0] = 1.0\n",
    "\n",
    "v_R_k2 = np.zeros(N)\n",
    "\n",
    "\n",
    "def R(u): # right hand side of 2nd order diffrential equation\n",
    "    return 1/(a*(1-e**2)) - u\n",
    "\n",
    "def f(v): # putting \"du/dtheta\" = v = f(v)\n",
    "    return v\n",
    "  \n",
    "#Euler Method\n",
    "for i in range(1,N):\n",
    "    v_num[i] = v_num[i-1] +h*R(u_num[i-1])\n",
    "    u_num[i] = u_num[i-1] + h*f(v_num[i-1])\n",
    "\n",
    "\n",
    "\n",
    "#Runge-kutta 2nd order\n",
    "    k_1 = h*R(u_R_k2[i-1])\n",
    "    c_1 = h*f(v_R_k2[i-1])\n",
    "    c_2 = h*f(v_R_k2[i-1] + k_1/2)\n",
    "    k_2 = h*R(u_R_k2[i-1] + c_1/2)   \n",
    "    v_R_k2[i] = v_R_k2[i-1] + k_2\n",
    "    u_R_k2[i] = u_R_k2[i-1] + c_2\n",
    "\n",
    "r = 1/u_num # r = 1/u\n",
    "\n",
    "r_R_K2 = 1/u_R_k2\n",
    "\n",
    "r_exact = a*(1-e**2)/(1+e*np.cos(theta-theta_0)) #Exact solution\n",
    "\n",
    "plt.polar('equal')\n",
    "\n",
    "#plotting r vs theta graph \n",
    "\n",
    "plt.plot(theta,r_exact,\"k--\")\n",
    "\n",
    "plt.polar(theta,r,\"g--\")"
   ]
  },
  {
   "cell_type": "markdown",
   "id": "b698a536",
   "metadata": {},
   "source": [
    "## 3. Chandrashekar Mass Limit\n",
    "Write the equations that govern the distribution of stellar mass M(r) and P(r) as a function of density ρ(r)\n",
    "following the argument of hydrostatic balance. Using the following Equation of state, express the equations in\n",
    "terms of variation of M(r) and ρ(r), where r is the spherical radius.\n",
    "\n",
    "$$P = \\frac{1}{4}(3\\pi^2)^{1/3} ħc(\\frac{\\alpha}{m_N})^{4/3} \\rho^{4/3}$$\n",
    "\n",
    "where, the parameter α is the number of electrons per nucleon in the star.\n",
    "For numerical work it is useful to rescale the variables involved to that their actual numerical values are neither\n",
    "too large nor too small. We therefore introduce : ˆr, ˆρ and Mˆ such that r = R0rˆ, ρ = ρ0ρˆ, M = M0Mˆ . where,\n",
    "\n",
    "$$\\rho_0= \\frac{n_0m_N}{\\alpha}$$\n",
    "\n",
    "with\n",
    "$$n_0 = \\frac{m_e^2 c^3}{3\\pi^2 ħ^3}$$ and $$M_0 = 4\\pi\\rho_0R_0^3$$\n",
    "Using the above scaling relations, find the expression for R0 such that the scaled equations become\n",
    "$$\\frac{d\\hat{M}}{d\\hat{r}} = \\hat{r}^2{\\hat{\\rho}} $$\n",
    "\n",
    "$$\\frac{d\\hat{\\rho}}{d\\hat{r}} = -\\frac{\\hat{M}\\hat{\\rho^{2/3}}}{\\hat{r}^2} $$\n",
    "\n",
    "\n",
    "Write a program to solve the above scaled equations using any algorithm of your choice. As discussed in class,\n",
    "the idea is to numerically integrate these starting at ̂r = 0 + ϵ, (where  is a small number) with the initial\n",
    "conditions Mˆ = 0 and ˆρ = ˆρc. The radius R of the white dwarf is the value of r at which ρ = 0, and M(R) is\n",
    "the total mass at this point.\n",
    "Once you have the code working, calculate the total masses and radii of white dwarfs with ˆρc values ranging from about 0.1 to 10^6.\n",
    "This gives a family of equilibrium configurations. By changing the stepsize h and (maybe) the algorithm used, verify that your solutions are accurate.\\\n",
    "\\\n",
    "**Hint**: A useful way to display these results is as a plot of radius versus mass. Can you identify the point at\n",
    "which the star can no longer be supported by degenerate electrons? This limiting mass for white dwarfs (with\n",
    "α = 0.5, 1 electron per 2 nucleons (1 proton + 1 neutron)) is known as the Chandrasekhar mass. Calculate its\n",
    "value in units of the mass of the sun."
   ]
  },
  {
   "cell_type": "code",
   "execution_count": 3,
   "id": "18770880",
   "metadata": {},
   "outputs": [
    {
     "name": "stderr",
     "output_type": "stream",
     "text": [
      "/tmp/ipykernel_29344/944795596.py:29: RuntimeWarning: invalid value encountered in double_scalars\n",
      "  return -1*(M_cap*rho_cap**(2/3))/r_cap**2\n"
     ]
    },
    {
     "name": "stdout",
     "output_type": "stream",
     "text": [
      "Chandrasekhar Mass Limit is : 1.4431194813264872\n"
     ]
    },
    {
     "data": {
      "image/png": "[encoded data removed]",
      "text/plain": [
       "<Figure size 432x288 with 1 Axes>"
      ]
     },
     "metadata": {
      "needs_background": "light"
     },
     "output_type": "display_data"
    }
   ],
   "source": [
    "import numpy as np\n",
    "import matplotlib.pyplot as plt\n",
    "\n",
    "\n",
    "#Constants\n",
    "N = 10000\n",
    "# alpha = 0.5\n",
    "\n",
    "#Defining Comstants\n",
    "M_sun = 1.989 * 10**30\n",
    "rho_0 = 1.962*10**9\n",
    "R_0 = 2.23*10**6\n",
    "M_0 = 4*np.pi*rho_0*R_0**3\n",
    "\n",
    "# m_e = 9.1 * 10**(-31)\n",
    "# c = 3 * 10**8\n",
    "# h_cross = 1.054 * 10**(-34)\n",
    "# G = 6.67*10**(-11)\n",
    "# m_N = 1.69 * 10**(-27)\n",
    "# n_0 = (m_e**3)*(c**3)/(3*np.pi**2 * h_cross**3)\n",
    "# k = 1/4*((3*np.pi**2)**(1/3))*(h_cross*c)*(alpha/m_N)**(4/3)\n",
    "\n",
    "\n",
    "# defining Functions\n",
    "def mass_grad(M_cap, r_cap, rho_cap):\n",
    "  return(r_cap**2)*rho_cap\n",
    "\n",
    "def dens_grad(M_cap, r_cap, rho_cap):\n",
    "  return -1*(M_cap*rho_cap**(2/3))/r_cap**2\n",
    "\n",
    "\n",
    "r_cap=np.linspace(0.001, 10 + 0.001, N)\n",
    "\n",
    "M_cap=np.zeros(N)\n",
    "M_cap[0] = 0\n",
    "rho_cap = np.zeros(N)\n",
    "\n",
    "dr = r_cap[1] - r_cap[0]\n",
    "\n",
    "k = 50\n",
    "\n",
    "#Creating Array with values of rho_c so to loop and plot the graph\n",
    "rho_c = np.logspace(-1, 6, k, endpoint=True, base=10)\n",
    "\n",
    "r_max = np.zeros(k)\n",
    "m_max = np.zeros(k)\n",
    "\n",
    "for j in range(0, k):\n",
    "    \n",
    "  rho_cap[0] = rho_c[j]\n",
    "  \n",
    "  for i in range(1,N):\n",
    "\n",
    "    #Solving the DE with Runge Kutta 2nd Error\n",
    "    d_1 = dr*dens_grad(M_cap[i-1], r_cap[i-1], rho_cap[i-1])\n",
    "    m_1 = dr*mass_grad(M_cap[i-1], r_cap[i-1], rho_cap[i-1])\n",
    "    d_2 = dr*dens_grad(M_cap[i-1] + m_1/2, r_cap[i-1] + dr/2, rho_cap[i-1] + d_1/2)  \n",
    "    m_2 = dr*mass_grad(M_cap[i-1] + m_1/2, r_cap[i-1] + dr/2, rho_cap[i-1] + d_1/2)\n",
    "\n",
    "    M_cap[i] = M_cap[i-1] + m_2\n",
    "    rho_cap[i] = rho_cap[i-1] + d_2\n",
    "\n",
    "\n",
    "\n",
    "  M_cap[np.isnan(M_cap)] = 0\n",
    "\n",
    "  for m in range(len(M_cap)):\n",
    "    if M_cap[m] == np.max(M_cap):\n",
    "      r_max[j] = r_cap[m]\n",
    "      m_max[j] = M_cap[m]\n",
    "      break\n",
    "\n",
    "  \n",
    "plt.plot(m_max*M_0, r_max*R_0)\n",
    "plt.ylabel(\"Radius of star\")\n",
    "plt.xlabel(\"Mass of star\")\n",
    "print(f'''Chandrasekhar Mass Limit is : {m_max[k-1]*M_0/M_sun}''')\n"
   ]
  },
  {
   "cell_type": "code",
   "execution_count": null,
   "id": "302df92f",
   "metadata": {},
   "outputs": [],
   "source": []
  }
 ],
 "metadata": {
  "kernelspec": {
   "display_name": "Python 3 (ipykernel)",
   "language": "python",
   "name": "python3"
  },
  "language_info": {
   "codemirror_mode": {
    "name": "ipython",
    "version": 3
   },
   "file_extension": ".py",
   "mimetype": "text/x-python",
   "name": "python",
   "nbconvert_exporter": "python",
   "pygments_lexer": "ipython3",
   "version": "3.9.12"
  }
 },
 "nbformat": 4,
 "nbformat_minor": 5
}
